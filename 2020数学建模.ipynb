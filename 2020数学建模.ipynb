{
 "cells": [
  {
   "cell_type": "code",
   "execution_count": 1,
   "id": "initial_id",
   "metadata": {
    "ExecuteTime": {
     "end_time": "2024-05-02T14:21:05.469021200Z",
     "start_time": "2024-05-02T14:21:05.432075800Z"
    },
    "collapsed": true
   },
   "outputs": [
    {
     "name": "stdout",
     "output_type": "stream",
     "text": [
      "Using matplotlib backend: <object object at 0x000001FBD5233510>\n"
     ]
    }
   ],
   "source": [
    "import pandas as pd\n",
    "import seaborn as sns\n",
    "import matplotlib.pyplot as plt\n",
    "%matplotlib"
   ]
  },
  {
   "cell_type": "code",
   "execution_count": 2,
   "id": "572c804c20719117",
   "metadata": {
    "ExecuteTime": {
     "end_time": "2024-05-02T14:21:07.527801800Z",
     "start_time": "2024-05-02T14:21:05.466034500Z"
    },
    "collapsed": false
   },
   "outputs": [
    {
     "name": "stderr",
     "output_type": "stream",
     "text": [
      "<>:1: SyntaxWarning: invalid escape sequence '\\D'\n",
      "<>:2: SyntaxWarning: invalid escape sequence '\\D'\n",
      "<>:3: SyntaxWarning: invalid escape sequence '\\D'\n",
      "<>:4: SyntaxWarning: invalid escape sequence '\\D'\n",
      "<>:5: SyntaxWarning: invalid escape sequence '\\D'\n",
      "<>:1: SyntaxWarning: invalid escape sequence '\\D'\n",
      "<>:2: SyntaxWarning: invalid escape sequence '\\D'\n",
      "<>:3: SyntaxWarning: invalid escape sequence '\\D'\n",
      "<>:4: SyntaxWarning: invalid escape sequence '\\D'\n",
      "<>:5: SyntaxWarning: invalid escape sequence '\\D'\n",
      "C:\\Users\\DELL\\AppData\\Local\\Temp\\ipykernel_1412\\484368645.py:1: SyntaxWarning: invalid escape sequence '\\D'\n",
      "  mete_level = pd.read_csv('E:\\Dataspll_data\\my_project\\csv_data\\shuomo2020_data\\附件_水表层级.csv',encoding='gbk',converters={\"水表号\": str})\n",
      "C:\\Users\\DELL\\AppData\\Local\\Temp\\ipykernel_1412\\484368645.py:2: SyntaxWarning: invalid escape sequence '\\D'\n",
      "  first_level = pd.read_csv('E:\\Dataspll_data\\my_project\\csv_data\\shuomo2020_data\\附件_一季度.csv',encoding='gbk',converters={\"水表号\": str})\n",
      "C:\\Users\\DELL\\AppData\\Local\\Temp\\ipykernel_1412\\484368645.py:3: SyntaxWarning: invalid escape sequence '\\D'\n",
      "  second_level = pd.read_csv('E:\\Dataspll_data\\my_project\\csv_data\\shuomo2020_data\\附件_二季度.csv',encoding='gbk',converters={\"水表号\": str})\n",
      "C:\\Users\\DELL\\AppData\\Local\\Temp\\ipykernel_1412\\484368645.py:4: SyntaxWarning: invalid escape sequence '\\D'\n",
      "  third_level = pd.read_csv('E:\\Dataspll_data\\my_project\\csv_data\\shuomo2020_data\\附件_三季度.csv',encoding='gbk',converters={\"水表号\": str})\n",
      "C:\\Users\\DELL\\AppData\\Local\\Temp\\ipykernel_1412\\484368645.py:5: SyntaxWarning: invalid escape sequence '\\D'\n",
      "  fourth_level = pd.read_csv('E:\\Dataspll_data\\my_project\\csv_data\\shuomo2020_data\\附件_四季度.csv',encoding='gbk',converters={\"水表号\": str})\n"
     ]
    }
   ],
   "source": [
    "mete_level = pd.read_csv('E:\\Dataspll_data\\my_project\\csv_data\\shuomo2020_data\\附件_水表层级.csv',encoding='gbk',converters={\"水表号\": str})\n",
    "first_level = pd.read_csv('E:\\Dataspll_data\\my_project\\csv_data\\shuomo2020_data\\附件_一季度.csv',encoding='gbk',converters={\"水表号\": str})\n",
    "second_level = pd.read_csv('E:\\Dataspll_data\\my_project\\csv_data\\shuomo2020_data\\附件_二季度.csv',encoding='gbk',converters={\"水表号\": str})\n",
    "third_level = pd.read_csv('E:\\Dataspll_data\\my_project\\csv_data\\shuomo2020_data\\附件_三季度.csv',encoding='gbk',converters={\"水表号\": str})\n",
    "fourth_level = pd.read_csv('E:\\Dataspll_data\\my_project\\csv_data\\shuomo2020_data\\附件_四季度.csv',encoding='gbk',converters={\"水表号\": str})"
   ]
  },
  {
   "cell_type": "code",
   "execution_count": 3,
   "id": "7543d467d00c731d",
   "metadata": {
    "ExecuteTime": {
     "end_time": "2024-05-02T14:21:07.533962Z",
     "start_time": "2024-05-02T14:21:07.527801800Z"
    },
    "collapsed": false
   },
   "outputs": [],
   "source": [
    "mete_level.set_index('水表号',inplace=True)"
   ]
  },
  {
   "cell_type": "markdown",
   "id": "473e209c13ccf361",
   "metadata": {
    "collapsed": false
   },
   "source": [
    "1.统计、分析各个水表数据的变化规律，并给出校园内不同功能区（宿舍、教学楼、办公楼、食堂等）的用水特征。\n",
    "2.结合校区水表层级关系，建立水表数据之间的关系模型，并利用已有数据分析模型误差。"
   ]
  },
  {
   "cell_type": "code",
   "execution_count": 4,
   "id": "ea9f1e50f87e9c32",
   "metadata": {
    "ExecuteTime": {
     "end_time": "2024-05-02T14:21:07.546827600Z",
     "start_time": "2024-05-02T14:21:07.531968700Z"
    },
    "collapsed": false
   },
   "outputs": [
    {
     "data": {
      "text/html": [
       "<div>\n",
       "<style scoped>\n",
       "    .dataframe tbody tr th:only-of-type {\n",
       "        vertical-align: middle;\n",
       "    }\n",
       "\n",
       "    .dataframe tbody tr th {\n",
       "        vertical-align: top;\n",
       "    }\n",
       "\n",
       "    .dataframe thead th {\n",
       "        text-align: right;\n",
       "    }\n",
       "</style>\n",
       "<table border=\"1\" class=\"dataframe\">\n",
       "  <thead>\n",
       "    <tr style=\"text-align: right;\">\n",
       "      <th></th>\n",
       "      <th>水表名</th>\n",
       "      <th>水表号</th>\n",
       "      <th>采集时间</th>\n",
       "      <th>上次读数</th>\n",
       "      <th>当前读数</th>\n",
       "      <th>用量</th>\n",
       "    </tr>\n",
       "  </thead>\n",
       "  <tbody>\n",
       "    <tr>\n",
       "      <th>0</th>\n",
       "      <td>司法鉴定中心</td>\n",
       "      <td>0</td>\n",
       "      <td>2019/1/1 00:15:00</td>\n",
       "      <td>2157.1</td>\n",
       "      <td>2157.1</td>\n",
       "      <td>0.0</td>\n",
       "    </tr>\n",
       "    <tr>\n",
       "      <th>1</th>\n",
       "      <td>司法鉴定中心</td>\n",
       "      <td>0</td>\n",
       "      <td>2019/1/1 00:30:00</td>\n",
       "      <td>2157.1</td>\n",
       "      <td>2157.1</td>\n",
       "      <td>0.0</td>\n",
       "    </tr>\n",
       "    <tr>\n",
       "      <th>2</th>\n",
       "      <td>司法鉴定中心</td>\n",
       "      <td>0</td>\n",
       "      <td>2019/1/1 00:45:00</td>\n",
       "      <td>2157.1</td>\n",
       "      <td>2157.1</td>\n",
       "      <td>0.0</td>\n",
       "    </tr>\n",
       "    <tr>\n",
       "      <th>3</th>\n",
       "      <td>司法鉴定中心</td>\n",
       "      <td>0</td>\n",
       "      <td>2019/1/1 01:00:00</td>\n",
       "      <td>2157.1</td>\n",
       "      <td>2157.1</td>\n",
       "      <td>0.0</td>\n",
       "    </tr>\n",
       "    <tr>\n",
       "      <th>4</th>\n",
       "      <td>司法鉴定中心</td>\n",
       "      <td>0</td>\n",
       "      <td>2019/1/1 01:15:00</td>\n",
       "      <td>2157.1</td>\n",
       "      <td>2157.1</td>\n",
       "      <td>0.0</td>\n",
       "    </tr>\n",
       "    <tr>\n",
       "      <th>...</th>\n",
       "      <td>...</td>\n",
       "      <td>...</td>\n",
       "      <td>...</td>\n",
       "      <td>...</td>\n",
       "      <td>...</td>\n",
       "      <td>...</td>\n",
       "    </tr>\n",
       "    <tr>\n",
       "      <th>729278</th>\n",
       "      <td>物业</td>\n",
       "      <td>3030100102</td>\n",
       "      <td>2019/3/31 22:45:00</td>\n",
       "      <td>50.9</td>\n",
       "      <td>50.9</td>\n",
       "      <td>0.0</td>\n",
       "    </tr>\n",
       "    <tr>\n",
       "      <th>729279</th>\n",
       "      <td>物业</td>\n",
       "      <td>3030100102</td>\n",
       "      <td>2019/3/31 23:00:00</td>\n",
       "      <td>50.9</td>\n",
       "      <td>50.9</td>\n",
       "      <td>0.0</td>\n",
       "    </tr>\n",
       "    <tr>\n",
       "      <th>729280</th>\n",
       "      <td>物业</td>\n",
       "      <td>3030100102</td>\n",
       "      <td>2019/3/31 23:15:00</td>\n",
       "      <td>50.9</td>\n",
       "      <td>50.9</td>\n",
       "      <td>0.0</td>\n",
       "    </tr>\n",
       "    <tr>\n",
       "      <th>729281</th>\n",
       "      <td>物业</td>\n",
       "      <td>3030100102</td>\n",
       "      <td>2019/3/31 23:30:00</td>\n",
       "      <td>50.9</td>\n",
       "      <td>50.9</td>\n",
       "      <td>0.0</td>\n",
       "    </tr>\n",
       "    <tr>\n",
       "      <th>729282</th>\n",
       "      <td>物业</td>\n",
       "      <td>3030100102</td>\n",
       "      <td>2019/3/31 23:45:00</td>\n",
       "      <td>50.9</td>\n",
       "      <td>50.9</td>\n",
       "      <td>0.0</td>\n",
       "    </tr>\n",
       "  </tbody>\n",
       "</table>\n",
       "<p>729283 rows × 6 columns</p>\n",
       "</div>"
      ],
      "text/plain": [
       "           水表名         水表号                采集时间    上次读数    当前读数   用量\n",
       "0       司法鉴定中心           0   2019/1/1 00:15:00  2157.1  2157.1  0.0\n",
       "1       司法鉴定中心           0   2019/1/1 00:30:00  2157.1  2157.1  0.0\n",
       "2       司法鉴定中心           0   2019/1/1 00:45:00  2157.1  2157.1  0.0\n",
       "3       司法鉴定中心           0   2019/1/1 01:00:00  2157.1  2157.1  0.0\n",
       "4       司法鉴定中心           0   2019/1/1 01:15:00  2157.1  2157.1  0.0\n",
       "...        ...         ...                 ...     ...     ...  ...\n",
       "729278      物业  3030100102  2019/3/31 22:45:00    50.9    50.9  0.0\n",
       "729279      物业  3030100102  2019/3/31 23:00:00    50.9    50.9  0.0\n",
       "729280      物业  3030100102  2019/3/31 23:15:00    50.9    50.9  0.0\n",
       "729281      物业  3030100102  2019/3/31 23:30:00    50.9    50.9  0.0\n",
       "729282      物业  3030100102  2019/3/31 23:45:00    50.9    50.9  0.0\n",
       "\n",
       "[729283 rows x 6 columns]"
      ]
     },
     "execution_count": 4,
     "metadata": {},
     "output_type": "execute_result"
    }
   ],
   "source": [
    "first_level"
   ]
  },
  {
   "cell_type": "code",
   "execution_count": 5,
   "id": "8b06410d5c1c0661",
   "metadata": {
    "ExecuteTime": {
     "end_time": "2024-05-02T14:21:07.830021700Z",
     "start_time": "2024-05-02T14:21:07.542841300Z"
    },
    "collapsed": false
   },
   "outputs": [],
   "source": [
    "first_level[\"采集时间\"] =pd.to_datetime(first_level[\"采集时间\"])"
   ]
  },
  {
   "cell_type": "code",
   "execution_count": 6,
   "id": "ae9dc839d6a89f9e",
   "metadata": {
    "ExecuteTime": {
     "end_time": "2024-05-02T14:21:07.830021700Z",
     "start_time": "2024-05-02T14:21:07.823448100Z"
    },
    "collapsed": false
   },
   "outputs": [],
   "source": [
    "first_level_grouped = first_level.groupby('水表号')"
   ]
  },
  {
   "cell_type": "code",
   "execution_count": null,
   "id": "c65c86e5064bb44e",
   "metadata": {
    "collapsed": false,
    "is_executing": true
   },
   "outputs": [],
   "source": [
    "for meter_group in first_level_grouped:\n",
    "    meter_number = meter_group[0]\n",
    "    group_df = meter_group[1]\n",
    "    print(meter_number)"
   ]
  },
  {
   "cell_type": "code",
   "execution_count": 7,
   "id": "6ae61e94595dcb3f",
   "metadata": {
    "ExecuteTime": {
     "end_time": "2024-05-02T14:21:07.888048Z",
     "start_time": "2024-05-02T14:21:07.882556900Z"
    },
    "collapsed": false
   },
   "outputs": [],
   "source": []
  }
 ],
 "metadata": {
  "kernelspec": {
   "display_name": "Python 3",
   "language": "python",
   "name": "python3"
  },
  "language_info": {
   "codemirror_mode": {
    "name": "ipython",
    "version": 2
   },
   "file_extension": ".py",
   "mimetype": "text/x-python",
   "name": "python",
   "nbconvert_exporter": "python",
   "pygments_lexer": "ipython2",
   "version": "2.7.6"
  }
 },
 "nbformat": 4,
 "nbformat_minor": 5
}
